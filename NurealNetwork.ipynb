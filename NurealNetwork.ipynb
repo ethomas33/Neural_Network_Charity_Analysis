{
 "cells": [
  {
   "cell_type": "code",
   "execution_count": 3,
   "metadata": {},
   "outputs": [],
   "source": [
    "# Import our dependencies\n",
    "import pandas as pd\n",
    "import matplotlib as plt\n",
    "from sklearn.datasets import make_blobs\n",
    "import sklearn as skl\n",
    "import tensorflow as tf"
   ]
  },
  {
   "cell_type": "code",
   "execution_count": 4,
   "metadata": {},
   "outputs": [
    {
     "data": {
      "text/plain": [
       "<AxesSubplot:xlabel='Feature 1', ylabel='Feature 2'>"
      ]
     },
     "execution_count": 4,
     "metadata": {},
     "output_type": "execute_result"
    },
    {
     "data": {
      "image/png": "[encoded data removed]",
      "text/plain": [
       "<Figure size 432x288 with 2 Axes>"
      ]
     },
     "metadata": {
      "needs_background": "light"
     },
     "output_type": "display_data"
    }
   ],
   "source": [
    "# Generate dummy dataset\n",
    "X, y = make_blobs(n_samples=1000, centers=2, n_features=2, random_state=78)\n",
    "\n",
    "# Creating a DataFrame with the dummy data\n",
    "df = pd.DataFrame(X, columns=[\"Feature 1\", \"Feature 2\"])\n",
    "df[\"Target\"] = y\n",
    "\n",
    "# Plotting the dummy data\n",
    "df.plot.scatter(x=\"Feature 1\", y=\"Feature 2\", c=\"Target\", colormap=\"winter\")"
   ]
  },
  {
   "cell_type": "code",
   "execution_count": 5,
   "metadata": {},
   "outputs": [],
   "source": [
    "# Use sklearn to split dataset\n",
    "from sklearn.model_selection import train_test_split\n",
    "X_train, X_test, y_train, y_test = train_test_split(X, y, random_state=78)"
   ]
  },
  {
   "cell_type": "code",
   "execution_count": 6,
   "metadata": {},
   "outputs": [],
   "source": [
    "# Create scaler instance\n",
    "X_scaler = skl.preprocessing.StandardScaler()\n",
    "\n",
    "# Fit the scaler\n",
    "X_scaler.fit(X_train)\n",
    "\n",
    "# Scale the data\n",
    "X_train_scaled = X_scaler.transform(X_train)\n",
    "X_test_scaled = X_scaler.transform(X_test)"
   ]
  },
  {
   "cell_type": "code",
   "execution_count": 7,
   "metadata": {},
   "outputs": [],
   "source": [
    "# Create the Keras Sequential model\n",
    "nn_model = tf.keras.models.Sequential()"
   ]
  },
  {
   "cell_type": "code",
   "execution_count": 8,
   "metadata": {},
   "outputs": [],
   "source": [
    "# Add our first Dense layer, including the input layer\n",
    "nn_model.add(tf.keras.layers.Dense(units=1, activation=\"relu\", input_dim=2))"
   ]
  },
  {
   "cell_type": "code",
   "execution_count": 9,
   "metadata": {},
   "outputs": [],
   "source": [
    "# Add the output layer that uses a probability activation function\n",
    "nn_model.add(tf.keras.layers.Dense(units=1, activation=\"sigmoid\"))"
   ]
  },
  {
   "cell_type": "code",
   "execution_count": 10,
   "metadata": {},
   "outputs": [
    {
     "name": "stdout",
     "output_type": "stream",
     "text": [
      "Model: \"sequential\"\n",
      "_________________________________________________________________\n",
      " Layer (type)                Output Shape              Param #   \n",
      "=================================================================\n",
      " dense (Dense)               (None, 1)                 3         \n",
      "                                                                 \n",
      " dense_1 (Dense)             (None, 1)                 2         \n",
      "                                                                 \n",
      "=================================================================\n",
      "Total params: 5\n",
      "Trainable params: 5\n",
      "Non-trainable params: 0\n",
      "_________________________________________________________________\n"
     ]
    }
   ],
   "source": [
    "# Check the structure of the Sequential model\n",
    "nn_model.summary()"
   ]
  },
  {
   "cell_type": "code",
   "execution_count": 11,
   "metadata": {},
   "outputs": [],
   "source": [
    "# Compile the Sequential model together and customize metrics\n",
    "nn_model.compile(loss=\"binary_crossentropy\", optimizer=\"adam\", metrics=[\"accuracy\"])"
   ]
  },
  {
   "cell_type": "code",
   "execution_count": 12,
   "metadata": {},
   "outputs": [
    {
     "name": "stdout",
     "output_type": "stream",
     "text": [
      "Epoch 1/100\n",
      "24/24 [==============================] - 1s 997us/step - loss: 0.6989 - accuracy: 0.0000e+00\n",
      "Epoch 2/100\n",
      "24/24 [==============================] - 0s 1ms/step - loss: 0.6944 - accuracy: 0.2533\n",
      "Epoch 3/100\n",
      "24/24 [==============================] - 0s 2ms/step - loss: 0.6904 - accuracy: 0.5067\n",
      "Epoch 4/100\n",
      "24/24 [==============================] - 0s 1ms/step - loss: 0.6860 - accuracy: 0.5067\n",
      "Epoch 5/100\n",
      "24/24 [==============================] - 0s 911us/step - loss: 0.6801 - accuracy: 0.5067\n",
      "Epoch 6/100\n",
      "24/24 [==============================] - 0s 1ms/step - loss: 0.6723 - accuracy: 0.5067\n",
      "Epoch 7/100\n",
      "24/24 [==============================] - 0s 1ms/step - loss: 0.6629 - accuracy: 0.5067\n",
      "Epoch 8/100\n",
      "24/24 [==============================] - 0s 911us/step - loss: 0.6515 - accuracy: 0.7120\n",
      "Epoch 9/100\n",
      "24/24 [==============================] - 0s 878us/step - loss: 0.6388 - accuracy: 1.0000\n",
      "Epoch 10/100\n",
      "24/24 [==============================] - 0s 1ms/step - loss: 0.6247 - accuracy: 1.0000\n",
      "Epoch 11/100\n",
      "24/24 [==============================] - 0s 1ms/step - loss: 0.6097 - accuracy: 1.0000\n",
      "Epoch 12/100\n",
      "24/24 [==============================] - 0s 1ms/step - loss: 0.5938 - accuracy: 1.0000\n",
      "Epoch 13/100\n",
      "24/24 [==============================] - 0s 867us/step - loss: 0.5771 - accuracy: 1.0000\n",
      "Epoch 14/100\n",
      "24/24 [==============================] - 0s 925us/step - loss: 0.5602 - accuracy: 1.0000\n",
      "Epoch 15/100\n",
      "24/24 [==============================] - 0s 1ms/step - loss: 0.5428 - accuracy: 1.0000\n",
      "Epoch 16/100\n",
      "24/24 [==============================] - 0s 1ms/step - loss: 0.5256 - accuracy: 1.0000\n",
      "Epoch 17/100\n",
      "24/24 [==============================] - 0s 1ms/step - loss: 0.5083 - accuracy: 1.0000\n",
      "Epoch 18/100\n",
      "24/24 [==============================] - 0s 755us/step - loss: 0.4914 - accuracy: 1.0000\n",
      "Epoch 19/100\n",
      "24/24 [==============================] - 0s 886us/step - loss: 0.4747 - accuracy: 1.0000\n",
      "Epoch 20/100\n",
      "24/24 [==============================] - 0s 1ms/step - loss: 0.4585 - accuracy: 1.0000\n",
      "Epoch 21/100\n",
      "24/24 [==============================] - 0s 1ms/step - loss: 0.4427 - accuracy: 1.0000\n",
      "Epoch 22/100\n",
      "24/24 [==============================] - 0s 1ms/step - loss: 0.4275 - accuracy: 1.0000\n",
      "Epoch 23/100\n",
      "24/24 [==============================] - 0s 824us/step - loss: 0.4129 - accuracy: 1.0000\n",
      "Epoch 24/100\n",
      "24/24 [==============================] - 0s 846us/step - loss: 0.3989 - accuracy: 1.0000\n",
      "Epoch 25/100\n",
      "24/24 [==============================] - 0s 1ms/step - loss: 0.3854 - accuracy: 1.0000\n",
      "Epoch 26/100\n",
      "24/24 [==============================] - 0s 1ms/step - loss: 0.3725 - accuracy: 1.0000\n",
      "Epoch 27/100\n",
      "24/24 [==============================] - 0s 2ms/step - loss: 0.3602 - accuracy: 1.0000\n",
      "Epoch 28/100\n",
      "24/24 [==============================] - 0s 896us/step - loss: 0.3485 - accuracy: 1.0000\n",
      "Epoch 29/100\n",
      "24/24 [==============================] - 0s 824us/step - loss: 0.3373 - accuracy: 1.0000\n",
      "Epoch 30/100\n",
      "24/24 [==============================] - 0s 1ms/step - loss: 0.3266 - accuracy: 1.0000\n",
      "Epoch 31/100\n",
      "24/24 [==============================] - 0s 1ms/step - loss: 0.3165 - accuracy: 1.0000\n",
      "Epoch 32/100\n",
      "24/24 [==============================] - 0s 1ms/step - loss: 0.3068 - accuracy: 1.0000\n",
      "Epoch 33/100\n",
      "24/24 [==============================] - 0s 1ms/step - loss: 0.2976 - accuracy: 1.0000\n",
      "Epoch 34/100\n",
      "24/24 [==============================] - 0s 954us/step - loss: 0.2888 - accuracy: 1.0000\n",
      "Epoch 35/100\n",
      "24/24 [==============================] - 0s 867us/step - loss: 0.2805 - accuracy: 1.0000\n",
      "Epoch 36/100\n",
      "24/24 [==============================] - 0s 954us/step - loss: 0.2725 - accuracy: 1.0000\n",
      "Epoch 37/100\n",
      "24/24 [==============================] - 0s 1ms/step - loss: 0.2648 - accuracy: 1.0000\n",
      "Epoch 38/100\n",
      "24/24 [==============================] - 0s 1ms/step - loss: 0.2575 - accuracy: 1.0000\n",
      "Epoch 39/100\n",
      "24/24 [==============================] - 0s 886us/step - loss: 0.2506 - accuracy: 1.0000\n",
      "Epoch 40/100\n",
      "24/24 [==============================] - 0s 885us/step - loss: 0.2439 - accuracy: 1.0000\n",
      "Epoch 41/100\n",
      "24/24 [==============================] - 0s 952us/step - loss: 0.2375 - accuracy: 1.0000\n",
      "Epoch 42/100\n",
      "24/24 [==============================] - 0s 1ms/step - loss: 0.2314 - accuracy: 1.0000\n",
      "Epoch 43/100\n",
      "24/24 [==============================] - 0s 1ms/step - loss: 0.2255 - accuracy: 1.0000\n",
      "Epoch 44/100\n",
      "24/24 [==============================] - 0s 780us/step - loss: 0.2199 - accuracy: 1.0000\n",
      "Epoch 45/100\n",
      "24/24 [==============================] - 0s 781us/step - loss: 0.2144 - accuracy: 1.0000\n",
      "Epoch 46/100\n",
      "24/24 [==============================] - 0s 999us/step - loss: 0.2093 - accuracy: 1.0000\n",
      "Epoch 47/100\n",
      "24/24 [==============================] - 0s 824us/step - loss: 0.2042 - accuracy: 1.0000\n",
      "Epoch 48/100\n",
      "24/24 [==============================] - 0s 911us/step - loss: 0.1995 - accuracy: 1.0000\n",
      "Epoch 49/100\n",
      "24/24 [==============================] - 0s 867us/step - loss: 0.1948 - accuracy: 1.0000\n",
      "Epoch 50/100\n",
      "24/24 [==============================] - 0s 824us/step - loss: 0.1904 - accuracy: 1.0000\n",
      "Epoch 51/100\n",
      "24/24 [==============================] - 0s 867us/step - loss: 0.1861 - accuracy: 1.0000\n",
      "Epoch 52/100\n",
      "24/24 [==============================] - 0s 824us/step - loss: 0.1819 - accuracy: 1.0000\n",
      "Epoch 53/100\n",
      "24/24 [==============================] - 0s 954us/step - loss: 0.1779 - accuracy: 1.0000\n",
      "Epoch 54/100\n",
      "24/24 [==============================] - 0s 924us/step - loss: 0.1740 - accuracy: 1.0000\n",
      "Epoch 55/100\n",
      "24/24 [==============================] - 0s 781us/step - loss: 0.1703 - accuracy: 1.0000\n",
      "Epoch 56/100\n",
      "24/24 [==============================] - 0s 911us/step - loss: 0.1667 - accuracy: 1.0000\n",
      "Epoch 57/100\n",
      "24/24 [==============================] - 0s 847us/step - loss: 0.1632 - accuracy: 1.0000\n",
      "Epoch 58/100\n",
      "24/24 [==============================] - 0s 1ms/step - loss: 0.1598 - accuracy: 1.0000\n",
      "Epoch 59/100\n",
      "24/24 [==============================] - 0s 911us/step - loss: 0.1565 - accuracy: 1.0000\n",
      "Epoch 60/100\n",
      "24/24 [==============================] - 0s 835us/step - loss: 0.1533 - accuracy: 1.0000\n",
      "Epoch 61/100\n",
      "24/24 [==============================] - 0s 971us/step - loss: 0.1502 - accuracy: 1.0000\n",
      "Epoch 62/100\n",
      "24/24 [==============================] - 0s 829us/step - loss: 0.1473 - accuracy: 1.0000\n",
      "Epoch 63/100\n",
      "24/24 [==============================] - 0s 954us/step - loss: 0.1443 - accuracy: 1.0000\n",
      "Epoch 64/100\n",
      "24/24 [==============================] - 0s 818us/step - loss: 0.1415 - accuracy: 1.0000\n",
      "Epoch 65/100\n",
      "24/24 [==============================] - 0s 911us/step - loss: 0.1388 - accuracy: 1.0000\n",
      "Epoch 66/100\n",
      "24/24 [==============================] - 0s 1ms/step - loss: 0.1361 - accuracy: 1.0000\n",
      "Epoch 67/100\n",
      "24/24 [==============================] - 0s 824us/step - loss: 0.1335 - accuracy: 1.0000\n",
      "Epoch 68/100\n",
      "24/24 [==============================] - 0s 997us/step - loss: 0.1310 - accuracy: 1.0000\n",
      "Epoch 69/100\n",
      "24/24 [==============================] - 0s 866us/step - loss: 0.1285 - accuracy: 1.0000\n",
      "Epoch 70/100\n",
      "24/24 [==============================] - 0s 954us/step - loss: 0.1261 - accuracy: 1.0000\n",
      "Epoch 71/100\n",
      "24/24 [==============================] - 0s 867us/step - loss: 0.1238 - accuracy: 1.0000\n",
      "Epoch 72/100\n",
      "24/24 [==============================] - 0s 916us/step - loss: 0.1215 - accuracy: 1.0000\n",
      "Epoch 73/100\n",
      "24/24 [==============================] - 0s 2ms/step - loss: 0.1193 - accuracy: 1.0000\n",
      "Epoch 74/100\n",
      "24/24 [==============================] - 0s 869us/step - loss: 0.1172 - accuracy: 1.0000\n",
      "Epoch 75/100\n",
      "24/24 [==============================] - 0s 911us/step - loss: 0.1151 - accuracy: 1.0000\n",
      "Epoch 76/100\n",
      "24/24 [==============================] - 0s 883us/step - loss: 0.1131 - accuracy: 1.0000\n",
      "Epoch 77/100\n",
      "24/24 [==============================] - 0s 1ms/step - loss: 0.1111 - accuracy: 1.0000\n",
      "Epoch 78/100\n",
      "24/24 [==============================] - 0s 824us/step - loss: 0.1092 - accuracy: 1.0000\n",
      "Epoch 79/100\n",
      "24/24 [==============================] - 0s 915us/step - loss: 0.1073 - accuracy: 1.0000\n",
      "Epoch 80/100\n",
      "24/24 [==============================] - 0s 787us/step - loss: 0.1055 - accuracy: 1.0000\n",
      "Epoch 81/100\n",
      "24/24 [==============================] - 0s 971us/step - loss: 0.1037 - accuracy: 1.0000\n",
      "Epoch 82/100\n",
      "24/24 [==============================] - 0s 829us/step - loss: 0.1019 - accuracy: 1.0000\n",
      "Epoch 83/100\n",
      "24/24 [==============================] - 0s 1ms/step - loss: 0.1002 - accuracy: 1.0000\n",
      "Epoch 84/100\n",
      "24/24 [==============================] - 0s 858us/step - loss: 0.0985 - accuracy: 1.0000\n",
      "Epoch 85/100\n",
      "24/24 [==============================] - 0s 955us/step - loss: 0.0969 - accuracy: 1.0000\n",
      "Epoch 86/100\n",
      "24/24 [==============================] - 0s 872us/step - loss: 0.0953 - accuracy: 1.0000\n",
      "Epoch 87/100\n",
      "24/24 [==============================] - 0s 912us/step - loss: 0.0938 - accuracy: 1.0000\n",
      "Epoch 88/100\n",
      "24/24 [==============================] - 0s 1ms/step - loss: 0.0922 - accuracy: 1.0000\n",
      "Epoch 89/100\n",
      "24/24 [==============================] - 0s 824us/step - loss: 0.0908 - accuracy: 1.0000\n",
      "Epoch 90/100\n",
      "24/24 [==============================] - 0s 953us/step - loss: 0.0893 - accuracy: 1.0000\n",
      "Epoch 91/100\n",
      "24/24 [==============================] - 0s 863us/step - loss: 0.0879 - accuracy: 1.0000\n",
      "Epoch 92/100\n",
      "24/24 [==============================] - 0s 893us/step - loss: 0.0865 - accuracy: 1.0000\n",
      "Epoch 93/100\n",
      "24/24 [==============================] - 0s 959us/step - loss: 0.0851 - accuracy: 1.0000\n",
      "Epoch 94/100\n",
      "24/24 [==============================] - 0s 871us/step - loss: 0.0838 - accuracy: 1.0000\n",
      "Epoch 95/100\n",
      "24/24 [==============================] - 0s 997us/step - loss: 0.0824 - accuracy: 1.0000\n",
      "Epoch 96/100\n",
      "24/24 [==============================] - 0s 880us/step - loss: 0.0812 - accuracy: 1.0000\n",
      "Epoch 97/100\n",
      "24/24 [==============================] - 0s 954us/step - loss: 0.0799 - accuracy: 1.0000\n",
      "Epoch 98/100\n",
      "24/24 [==============================] - 0s 867us/step - loss: 0.0787 - accuracy: 1.0000\n",
      "Epoch 99/100\n",
      "24/24 [==============================] - 0s 927us/step - loss: 0.0775 - accuracy: 1.0000\n",
      "Epoch 100/100\n",
      "24/24 [==============================] - 0s 880us/step - loss: 0.0763 - accuracy: 1.0000\n"
     ]
    }
   ],
   "source": [
    "# Fit the model to the training data\n",
    "fit_model = nn_model.fit(X_train_scaled, y_train, epochs=100)"
   ]
  },
  {
   "cell_type": "code",
   "execution_count": 13,
   "metadata": {},
   "outputs": [
    {
     "data": {
      "text/plain": [
       "<AxesSubplot:>"
      ]
     },
     "execution_count": 13,
     "metadata": {},
     "output_type": "execute_result"
    },
    {
     "data": {
      "image/png": "[encoded data removed]",
      "text/plain": [
       "<Figure size 432x288 with 1 Axes>"
      ]
     },
     "metadata": {
      "needs_background": "light"
     },
     "output_type": "display_data"
    }
   ],
   "source": [
    "# Create a DataFrame containing training history\n",
    "history_df = pd.DataFrame(fit_model.history, index=range(1,len(fit_model.history[\"loss\"])+1))\n",
    "\n",
    "# Plot the loss\n",
    "history_df.plot(y=\"loss\")"
   ]
  },
  {
   "cell_type": "code",
   "execution_count": 14,
   "metadata": {},
   "outputs": [
    {
     "data": {
      "text/plain": [
       "<AxesSubplot:>"
      ]
     },
     "execution_count": 14,
     "metadata": {},
     "output_type": "execute_result"
    },
    {
     "data": {
      "image/png": "[encoded data removed]",
      "text/plain": [
       "<Figure size 432x288 with 1 Axes>"
      ]
     },
     "metadata": {
      "needs_background": "light"
     },
     "output_type": "display_data"
    }
   ],
   "source": [
    "# Plot the accuracy\n",
    "history_df.plot(y=\"accuracy\")"
   ]
  },
  {
   "cell_type": "code",
   "execution_count": 15,
   "metadata": {},
   "outputs": [
    {
     "name": "stdout",
     "output_type": "stream",
     "text": [
      "8/8 - 0s - loss: 0.0781 - accuracy: 1.0000 - 263ms/epoch - 33ms/step\n",
      "Loss: 0.07806002348661423, Accuracy: 1.0\n"
     ]
    }
   ],
   "source": [
    "# Evaluate the model using the test data\n",
    "model_loss, model_accuracy = nn_model.evaluate(X_test_scaled,y_test,verbose=2)\n",
    "print(f\"Loss: {model_loss}, Accuracy: {model_accuracy}\")"
   ]
  },
  {
   "cell_type": "code",
   "execution_count": 16,
   "metadata": {},
   "outputs": [
    {
     "name": "stdout",
     "output_type": "stream",
     "text": [
      "1/1 [==============================] - 0s 68ms/step\n"
     ]
    },
    {
     "data": {
      "text/plain": [
       "array([[0],\n",
       "       [1],\n",
       "       [0],\n",
       "       [1],\n",
       "       [0],\n",
       "       [0],\n",
       "       [1],\n",
       "       [1],\n",
       "       [1],\n",
       "       [0]])"
      ]
     },
     "execution_count": 16,
     "metadata": {},
     "output_type": "execute_result"
    }
   ],
   "source": [
    "# Predict the classification of a new set of blob data\n",
    "new_X, new_Y = make_blobs(n_samples=10, centers=2, n_features=2, random_state=78)\n",
    "new_X_scaled = X_scaler.transform(new_X)\n",
    "(nn_model.predict(new_X_scaled) > 0.5).astype(\"int32\")"
   ]
  },
  {
   "cell_type": "code",
   "execution_count": 17,
   "metadata": {},
   "outputs": [
    {
     "name": "stdout",
     "output_type": "stream",
     "text": [
      "1/1 [==============================] - 0s 14ms/step\n"
     ]
    },
    {
     "data": {
      "text/plain": [
       "array([[0.0102439 ],\n",
       "       [0.86769646],\n",
       "       [0.00342195],\n",
       "       [0.86769646],\n",
       "       [0.00941977],\n",
       "       [0.00847579],\n",
       "       [0.86769646],\n",
       "       [0.86769646],\n",
       "       [0.86769646],\n",
       "       [0.00880167]], dtype=float32)"
      ]
     },
     "execution_count": 17,
     "metadata": {},
     "output_type": "execute_result"
    }
   ],
   "source": [
    "# Predict the classification of a new set of blob data\n",
    "new_X, new_Y = make_blobs(n_samples=10, centers=2, n_features=2, random_state=78)\n",
    "new_X_scaled = X_scaler.transform(new_X)\n",
    "nn_model.predict(new_X_scaled)"
   ]
  },
  {
   "cell_type": "markdown",
   "metadata": {},
   "source": [
    "Non linear network\n"
   ]
  },
  {
   "cell_type": "code",
   "execution_count": 18,
   "metadata": {},
   "outputs": [
    {
     "data": {
      "text/plain": [
       "<AxesSubplot:xlabel='Feature 1', ylabel='Feature 2'>"
      ]
     },
     "execution_count": 18,
     "metadata": {},
     "output_type": "execute_result"
    },
    {
     "data": {
      "image/png": "[encoded data removed]",
      "text/plain": [
       "<Figure size 432x288 with 2 Axes>"
      ]
     },
     "metadata": {
      "needs_background": "light"
     },
     "output_type": "display_data"
    }
   ],
   "source": [
    "from sklearn.datasets import make_moons\n",
    "\n",
    "# Creating dummy nonlinear data\n",
    "X_moons, y_moons = make_moons(n_samples=1000, noise=0.08, random_state=78)\n",
    "\n",
    "# Transforming y_moons to a vertical vector\n",
    "y_moons = y_moons.reshape(-1, 1)\n",
    "\n",
    "# Creating a DataFrame to plot the nonlinear dummy data\n",
    "df_moons = pd.DataFrame(X_moons, columns=[\"Feature 1\", \"Feature 2\"])\n",
    "df_moons[\"Target\"] = y_moons\n",
    "\n",
    "# Plot the nonlinear dummy data\n",
    "df_moons.plot.scatter(x=\"Feature 1\",y=\"Feature 2\", c=\"Target\",colormap=\"winter\")"
   ]
  },
  {
   "cell_type": "code",
   "execution_count": 19,
   "metadata": {},
   "outputs": [],
   "source": [
    "# Create training and testing sets\n",
    "X_moon_train, X_moon_test, y_moon_train, y_moon_test = train_test_split(\n",
    "    X_moons, y_moons, random_state=78\n",
    ")\n",
    "\n",
    "# Create the scaler instance\n",
    "X_moon_scaler = skl.preprocessing.StandardScaler()\n",
    "\n",
    "# Fit the scaler\n",
    "X_moon_scaler.fit(X_moon_train)\n",
    "\n",
    "# Scale the data\n",
    "X_moon_train_scaled = X_moon_scaler.transform(X_moon_train)\n",
    "X_moon_test_scaled = X_moon_scaler.transform(X_moon_test)"
   ]
  },
  {
   "cell_type": "code",
   "execution_count": 20,
   "metadata": {},
   "outputs": [
    {
     "name": "stdout",
     "output_type": "stream",
     "text": [
      "Epoch 1/100\n",
      "24/24 [==============================] - 0s 964us/step - loss: 0.9604 - accuracy: 0.5213\n",
      "Epoch 2/100\n",
      "24/24 [==============================] - 0s 1ms/step - loss: 0.8762 - accuracy: 0.5293\n",
      "Epoch 3/100\n",
      "24/24 [==============================] - 0s 1ms/step - loss: 0.8173 - accuracy: 0.5360\n",
      "Epoch 4/100\n",
      "24/24 [==============================] - 0s 1ms/step - loss: 0.7727 - accuracy: 0.5480\n",
      "Epoch 5/100\n",
      "24/24 [==============================] - 0s 1ms/step - loss: 0.7392 - accuracy: 0.5560\n",
      "Epoch 6/100\n",
      "24/24 [==============================] - 0s 781us/step - loss: 0.7123 - accuracy: 0.5627\n",
      "Epoch 7/100\n",
      "24/24 [==============================] - 0s 954us/step - loss: 0.6894 - accuracy: 0.5800\n",
      "Epoch 8/100\n",
      "24/24 [==============================] - 0s 867us/step - loss: 0.6693 - accuracy: 0.5880\n",
      "Epoch 9/100\n",
      "24/24 [==============================] - 0s 867us/step - loss: 0.6518 - accuracy: 0.6000\n",
      "Epoch 10/100\n",
      "24/24 [==============================] - 0s 1ms/step - loss: 0.6361 - accuracy: 0.6093\n",
      "Epoch 11/100\n",
      "24/24 [==============================] - 0s 1ms/step - loss: 0.6218 - accuracy: 0.6133\n",
      "Epoch 12/100\n",
      "24/24 [==============================] - 0s 868us/step - loss: 0.6086 - accuracy: 0.6187\n",
      "Epoch 13/100\n",
      "24/24 [==============================] - 0s 1ms/step - loss: 0.5966 - accuracy: 0.6240\n",
      "Epoch 14/100\n",
      "24/24 [==============================] - 0s 1ms/step - loss: 0.5853 - accuracy: 0.6267\n",
      "Epoch 15/100\n",
      "24/24 [==============================] - 0s 1ms/step - loss: 0.5751 - accuracy: 0.6373\n",
      "Epoch 16/100\n",
      "24/24 [==============================] - 0s 1ms/step - loss: 0.5655 - accuracy: 0.6440\n",
      "Epoch 17/100\n",
      "24/24 [==============================] - 0s 867us/step - loss: 0.5564 - accuracy: 0.6520\n",
      "Epoch 18/100\n",
      "24/24 [==============================] - 0s 1ms/step - loss: 0.5482 - accuracy: 0.6533\n",
      "Epoch 19/100\n",
      "24/24 [==============================] - 0s 867us/step - loss: 0.5402 - accuracy: 0.6573\n",
      "Epoch 20/100\n",
      "24/24 [==============================] - 0s 954us/step - loss: 0.5325 - accuracy: 0.6667\n",
      "Epoch 21/100\n",
      "24/24 [==============================] - 0s 954us/step - loss: 0.5252 - accuracy: 0.6720\n",
      "Epoch 22/100\n",
      "24/24 [==============================] - 0s 2ms/step - loss: 0.5182 - accuracy: 0.6760\n",
      "Epoch 23/100\n",
      "24/24 [==============================] - 0s 867us/step - loss: 0.5117 - accuracy: 0.6827\n",
      "Epoch 24/100\n",
      "24/24 [==============================] - 0s 954us/step - loss: 0.5052 - accuracy: 0.6880\n",
      "Epoch 25/100\n",
      "24/24 [==============================] - 0s 911us/step - loss: 0.4990 - accuracy: 0.6920\n",
      "Epoch 26/100\n",
      "24/24 [==============================] - 0s 997us/step - loss: 0.4930 - accuracy: 0.6933\n",
      "Epoch 27/100\n",
      "24/24 [==============================] - 0s 824us/step - loss: 0.4872 - accuracy: 0.7000\n",
      "Epoch 28/100\n",
      "24/24 [==============================] - 0s 911us/step - loss: 0.4816 - accuracy: 0.7040\n",
      "Epoch 29/100\n",
      "24/24 [==============================] - 0s 781us/step - loss: 0.4762 - accuracy: 0.7053\n",
      "Epoch 30/100\n",
      "24/24 [==============================] - 0s 954us/step - loss: 0.4708 - accuracy: 0.7120\n",
      "Epoch 31/100\n",
      "24/24 [==============================] - 0s 823us/step - loss: 0.4656 - accuracy: 0.7160\n",
      "Epoch 32/100\n",
      "24/24 [==============================] - 0s 911us/step - loss: 0.4606 - accuracy: 0.7213\n",
      "Epoch 33/100\n",
      "24/24 [==============================] - 0s 867us/step - loss: 0.4556 - accuracy: 0.7253\n",
      "Epoch 34/100\n",
      "24/24 [==============================] - 0s 997us/step - loss: 0.4507 - accuracy: 0.7293\n",
      "Epoch 35/100\n",
      "24/24 [==============================] - 0s 911us/step - loss: 0.4459 - accuracy: 0.7333\n",
      "Epoch 36/100\n",
      "24/24 [==============================] - 0s 954us/step - loss: 0.4413 - accuracy: 0.7347\n",
      "Epoch 37/100\n",
      "24/24 [==============================] - 0s 867us/step - loss: 0.4365 - accuracy: 0.7427\n",
      "Epoch 38/100\n",
      "24/24 [==============================] - 0s 954us/step - loss: 0.4320 - accuracy: 0.7493\n",
      "Epoch 39/100\n",
      "24/24 [==============================] - 0s 911us/step - loss: 0.4275 - accuracy: 0.7520\n",
      "Epoch 40/100\n",
      "24/24 [==============================] - 0s 867us/step - loss: 0.4231 - accuracy: 0.7560\n",
      "Epoch 41/100\n",
      "24/24 [==============================] - 0s 954us/step - loss: 0.4187 - accuracy: 0.7600\n",
      "Epoch 42/100\n",
      "24/24 [==============================] - 0s 867us/step - loss: 0.4145 - accuracy: 0.7653\n",
      "Epoch 43/100\n",
      "24/24 [==============================] - 0s 997us/step - loss: 0.4101 - accuracy: 0.7653\n",
      "Epoch 44/100\n",
      "24/24 [==============================] - 0s 911us/step - loss: 0.4061 - accuracy: 0.7693\n",
      "Epoch 45/100\n",
      "24/24 [==============================] - 0s 930us/step - loss: 0.4019 - accuracy: 0.7747\n",
      "Epoch 46/100\n",
      "24/24 [==============================] - 0s 997us/step - loss: 0.3978 - accuracy: 0.7800\n",
      "Epoch 47/100\n",
      "24/24 [==============================] - 0s 824us/step - loss: 0.3938 - accuracy: 0.7840\n",
      "Epoch 48/100\n",
      "24/24 [==============================] - 0s 955us/step - loss: 0.3899 - accuracy: 0.7867\n",
      "Epoch 49/100\n",
      "24/24 [==============================] - 0s 867us/step - loss: 0.3859 - accuracy: 0.7880\n",
      "Epoch 50/100\n",
      "24/24 [==============================] - 0s 1ms/step - loss: 0.3821 - accuracy: 0.7933\n",
      "Epoch 51/100\n",
      "24/24 [==============================] - 0s 824us/step - loss: 0.3783 - accuracy: 0.8053\n",
      "Epoch 52/100\n",
      "24/24 [==============================] - 0s 955us/step - loss: 0.3747 - accuracy: 0.8053\n",
      "Epoch 53/100\n",
      "24/24 [==============================] - 0s 865us/step - loss: 0.3710 - accuracy: 0.8053\n",
      "Epoch 54/100\n",
      "24/24 [==============================] - 0s 911us/step - loss: 0.3675 - accuracy: 0.8080\n",
      "Epoch 55/100\n",
      "24/24 [==============================] - 0s 911us/step - loss: 0.3641 - accuracy: 0.8107\n",
      "Epoch 56/100\n",
      "24/24 [==============================] - 0s 954us/step - loss: 0.3607 - accuracy: 0.8133\n",
      "Epoch 57/100\n",
      "24/24 [==============================] - 0s 910us/step - loss: 0.3575 - accuracy: 0.8147\n",
      "Epoch 58/100\n",
      "24/24 [==============================] - 0s 867us/step - loss: 0.3545 - accuracy: 0.8173\n",
      "Epoch 59/100\n",
      "24/24 [==============================] - 0s 1ms/step - loss: 0.3512 - accuracy: 0.8200\n",
      "Epoch 60/100\n",
      "24/24 [==============================] - 0s 824us/step - loss: 0.3483 - accuracy: 0.8227\n",
      "Epoch 61/100\n",
      "24/24 [==============================] - 0s 1ms/step - loss: 0.3454 - accuracy: 0.8227\n",
      "Epoch 62/100\n",
      "24/24 [==============================] - 0s 1ms/step - loss: 0.3425 - accuracy: 0.8227\n",
      "Epoch 63/100\n",
      "24/24 [==============================] - 0s 1ms/step - loss: 0.3397 - accuracy: 0.8253\n",
      "Epoch 64/100\n",
      "24/24 [==============================] - 0s 955us/step - loss: 0.3370 - accuracy: 0.8267\n",
      "Epoch 65/100\n",
      "24/24 [==============================] - 0s 997us/step - loss: 0.3344 - accuracy: 0.8267\n",
      "Epoch 66/100\n",
      "24/24 [==============================] - 0s 824us/step - loss: 0.3319 - accuracy: 0.8267\n",
      "Epoch 67/100\n",
      "24/24 [==============================] - 0s 1ms/step - loss: 0.3295 - accuracy: 0.8267\n",
      "Epoch 68/100\n",
      "24/24 [==============================] - 0s 911us/step - loss: 0.3271 - accuracy: 0.8293\n",
      "Epoch 69/100\n",
      "24/24 [==============================] - 0s 1ms/step - loss: 0.3248 - accuracy: 0.8307\n",
      "Epoch 70/100\n",
      "24/24 [==============================] - 0s 867us/step - loss: 0.3226 - accuracy: 0.8320\n",
      "Epoch 71/100\n",
      "24/24 [==============================] - 0s 911us/step - loss: 0.3204 - accuracy: 0.8333\n",
      "Epoch 72/100\n",
      "24/24 [==============================] - 0s 824us/step - loss: 0.3183 - accuracy: 0.8373\n",
      "Epoch 73/100\n",
      "24/24 [==============================] - 0s 998us/step - loss: 0.3161 - accuracy: 0.8387\n",
      "Epoch 74/100\n",
      "24/24 [==============================] - 0s 867us/step - loss: 0.3141 - accuracy: 0.8400\n",
      "Epoch 75/100\n",
      "24/24 [==============================] - 0s 955us/step - loss: 0.3121 - accuracy: 0.8427\n",
      "Epoch 76/100\n",
      "24/24 [==============================] - 0s 955us/step - loss: 0.3103 - accuracy: 0.8440\n",
      "Epoch 77/100\n",
      "24/24 [==============================] - 0s 866us/step - loss: 0.3083 - accuracy: 0.8467\n",
      "Epoch 78/100\n",
      "24/24 [==============================] - 0s 1ms/step - loss: 0.3065 - accuracy: 0.8480\n",
      "Epoch 79/100\n",
      "24/24 [==============================] - 0s 911us/step - loss: 0.3048 - accuracy: 0.8520\n",
      "Epoch 80/100\n",
      "24/24 [==============================] - 0s 1ms/step - loss: 0.3030 - accuracy: 0.8533\n",
      "Epoch 81/100\n",
      "24/24 [==============================] - 0s 954us/step - loss: 0.3014 - accuracy: 0.8547\n",
      "Epoch 82/100\n",
      "24/24 [==============================] - 0s 1ms/step - loss: 0.2997 - accuracy: 0.8573\n",
      "Epoch 83/100\n",
      "24/24 [==============================] - 0s 1ms/step - loss: 0.2982 - accuracy: 0.8573\n",
      "Epoch 84/100\n",
      "24/24 [==============================] - 0s 824us/step - loss: 0.2967 - accuracy: 0.8587\n",
      "Epoch 85/100\n",
      "24/24 [==============================] - 0s 955us/step - loss: 0.2953 - accuracy: 0.8627\n",
      "Epoch 86/100\n",
      "24/24 [==============================] - 0s 911us/step - loss: 0.2938 - accuracy: 0.8640\n",
      "Epoch 87/100\n",
      "24/24 [==============================] - 0s 911us/step - loss: 0.2924 - accuracy: 0.8640\n",
      "Epoch 88/100\n",
      "24/24 [==============================] - 0s 997us/step - loss: 0.2910 - accuracy: 0.8640\n",
      "Epoch 89/100\n",
      "24/24 [==============================] - 0s 867us/step - loss: 0.2897 - accuracy: 0.8667\n",
      "Epoch 90/100\n",
      "24/24 [==============================] - 0s 911us/step - loss: 0.2885 - accuracy: 0.8680\n",
      "Epoch 91/100\n",
      "24/24 [==============================] - 0s 954us/step - loss: 0.2872 - accuracy: 0.8680\n",
      "Epoch 92/100\n",
      "24/24 [==============================] - 0s 867us/step - loss: 0.2860 - accuracy: 0.8680\n",
      "Epoch 93/100\n",
      "24/24 [==============================] - 0s 997us/step - loss: 0.2849 - accuracy: 0.8680\n",
      "Epoch 94/100\n",
      "24/24 [==============================] - 0s 998us/step - loss: 0.2837 - accuracy: 0.8680\n",
      "Epoch 95/100\n",
      "24/24 [==============================] - 0s 911us/step - loss: 0.2827 - accuracy: 0.8680\n",
      "Epoch 96/100\n",
      "24/24 [==============================] - 0s 1ms/step - loss: 0.2816 - accuracy: 0.8680\n",
      "Epoch 97/100\n",
      "24/24 [==============================] - 0s 824us/step - loss: 0.2806 - accuracy: 0.8693\n",
      "Epoch 98/100\n",
      "24/24 [==============================] - 0s 1ms/step - loss: 0.2796 - accuracy: 0.8720\n",
      "Epoch 99/100\n",
      "24/24 [==============================] - 0s 867us/step - loss: 0.2786 - accuracy: 0.8747\n",
      "Epoch 100/100\n",
      "24/24 [==============================] - 0s 1ms/step - loss: 0.2777 - accuracy: 0.8747\n"
     ]
    }
   ],
   "source": [
    "# Training the model with the nonlinear data\n",
    "model_moon = nn_model.fit(X_moon_train_scaled, y_moon_train, epochs=100, shuffle=True)"
   ]
  },
  {
   "cell_type": "code",
   "execution_count": 21,
   "metadata": {},
   "outputs": [
    {
     "data": {
      "text/plain": [
       "<AxesSubplot:>"
      ]
     },
     "execution_count": 21,
     "metadata": {},
     "output_type": "execute_result"
    },
    {
     "data": {
      "image/png": "[encoded data removed]",
      "text/plain": [
       "<Figure size 432x288 with 1 Axes>"
      ]
     },
     "metadata": {
      "needs_background": "light"
     },
     "output_type": "display_data"
    }
   ],
   "source": [
    "# Create a DataFrame containing training history\n",
    "history_df = pd.DataFrame(model_moon.history, index=range(1,len(model_moon.history[\"loss\"])+1))\n",
    "\n",
    "# Plot the loss\n",
    "history_df.plot(y=\"loss\")"
   ]
  },
  {
   "cell_type": "code",
   "execution_count": null,
   "metadata": {},
   "outputs": [],
   "source": []
  }
 ],
 "metadata": {
  "interpreter": {
   "hash": "8cfad6488c0a4864ed72d39c54454c86ed4e0d0a1904c415b8f68277569c9166"
  },
  "kernelspec": {
   "display_name": "Python 3.7.13 ('mlenv')",
   "language": "python",
   "name": "python3"
  },
  "language_info": {
   "codemirror_mode": {
    "name": "ipython",
    "version": 3
   },
   "file_extension": ".py",
   "mimetype": "text/x-python",
   "name": "python",
   "nbconvert_exporter": "python",
   "pygments_lexer": "ipython3",
   "version": "3.7.13"
  },
  "orig_nbformat": 4
 },
 "nbformat": 4,
 "nbformat_minor": 2
}
